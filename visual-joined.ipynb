{
 "cells": [
  {
   "cell_type": "code",
   "execution_count": 14,
   "metadata": {},
   "outputs": [],
   "source": [
    "import pandas as pd\n",
    "import numpy as np \n",
    "import matplotlib as plt\n",
    "\n",
    "nps_df = pd.read_csv(\"Clean Data\\MonthlyVisits_2000-2022.csv\")\n",
    "nps_df['Date'] = pd.to_datetime(nps_df['Date'])\n",
    "\n",
    "covid_df = pd.read_csv(\"Clean Data\\Weekly_United_States_COVID-19_Cases_and_Deaths_by_State_-_ARCHIVED.csv\")\n",
    "covid_df['date_updated'] = pd.to_datetime(covid_df['date_updated'])\n",
    "covid_df['start_date'] = pd.to_datetime(covid_df['start_date'])\n",
    "covid_df['end_date'] = pd.to_datetime(covid_df['end_date'])"
   ]
  },
  {
   "cell_type": "code",
   "execution_count": null,
   "metadata": {},
   "outputs": [],
   "source": [
    "#find what states are in each region"
   ]
  },
  {
   "cell_type": "code",
   "execution_count": null,
   "metadata": {},
   "outputs": [],
   "source": [
    "#create a region column in the COVID dataframe "
   ]
  },
  {
   "cell_type": "code",
   "execution_count": null,
   "metadata": {},
   "outputs": [],
   "source": [
    "#summarize visitors per region for each month\n",
    "\n",
    "#sumamrize covid cases per region for each week (or month?)"
   ]
  },
  {
   "cell_type": "code",
   "execution_count": null,
   "metadata": {},
   "outputs": [],
   "source": [
    "#create visual of visitors and covid for each region\n",
    "#Did COVID affect every region the same? "
   ]
  }
 ],
 "metadata": {
  "kernelspec": {
   "display_name": "base",
   "language": "python",
   "name": "python3"
  },
  "language_info": {
   "codemirror_mode": {
    "name": "ipython",
    "version": 3
   },
   "file_extension": ".py",
   "mimetype": "text/x-python",
   "name": "python",
   "nbconvert_exporter": "python",
   "pygments_lexer": "ipython3",
   "version": "3.9.7"
  },
  "orig_nbformat": 4
 },
 "nbformat": 4,
 "nbformat_minor": 2
}
